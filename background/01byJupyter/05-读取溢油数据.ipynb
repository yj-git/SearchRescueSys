{
 "cells": [
  {
   "cell_type": "code",
   "execution_count": 1,
   "metadata": {},
   "outputs": [],
   "source": [
    "import numpy as np\n",
    "import netCDF4 as nc\n",
    "import pandas as pd\n",
    "import numpy.ma as ma"
   ]
  },
  {
   "cell_type": "code",
   "execution_count": 4,
   "metadata": {},
   "outputs": [],
   "source": [
    "file_path='./data/sanjioil.nc'"
   ]
  },
  {
   "cell_type": "code",
   "execution_count": 5,
   "metadata": {},
   "outputs": [],
   "source": [
    "ds=nc.Dataset(file_path)"
   ]
  },
  {
   "cell_type": "code",
   "execution_count": 6,
   "metadata": {},
   "outputs": [
    {
     "data": {
      "text/plain": [
       "<class 'netCDF4._netCDF4.Dataset'>\n",
       "root group (NETCDF4 data model, file format HDF5):\n",
       "    Conventions: CF-1.6\n",
       "    standard_name_vocabulary: CF-1.6\n",
       "    featureType: trajectory\n",
       "    history: Created 2019-08-01 11:42:45.072000\n",
       "    source: Output from simulation with OpenDrift\n",
       "    model_url: https://github.com/OpenDrift/opendrift\n",
       "    opendrift_class: OpenOil\n",
       "    opendrift_module: opendrift.models.openoil\n",
       "    readers: ['E:\\\\project\\\\oilspill_rescue\\\\curr_wind\\\\curr0_test.nc', 'E:\\\\project\\\\oilspill_rescue\\\\curr_wind\\\\wind0_test.nc', 'basemap_landmask']\n",
       "    time_coverage_start: 2018-01-14 22:20:00\n",
       "    time_step_calculation: 0:30:00\n",
       "    time_step_output: 1:00:00\n",
       "    config_seed:oil_type: MEDIUM (brage)\n",
       "    config_seed:ocean_only: True\n",
       "    config_general:use_basemap_landmask: True\n",
       "    config_general:basemap_resolution: h\n",
       "    config_general:coastline_action: stranding\n",
       "    config_general:time_step_minutes: 60\n",
       "    config_general:time_step_output_minutes: None\n",
       "    config_drift:max_age_seconds: None\n",
       "    config_drift:scheme: runge-kutta\n",
       "    config_drift:stokes_drift: True\n",
       "    config_drift:current_uncertainty: 0.5\n",
       "    config_drift:current_uncertainty_uniform: 0.0\n",
       "    config_drift:wind_uncertainty: 1\n",
       "    config_drift:relative_wind: False\n",
       "    config_drift:lift_to_seafloor: True\n",
       "    config_drift:deactivate_north_of: None\n",
       "    config_drift:deactivate_south_of: None\n",
       "    config_drift:deactivate_east_of: None\n",
       "    config_drift:deactivate_west_of: None\n",
       "    config_drift:use_tabularised_stokes_drift: False\n",
       "    config_drift:tabularised_stokes_drift_fetch: 25000\n",
       "    config_processes:dispersion: True\n",
       "    config_processes:evaporation: True\n",
       "    config_processes:emulsification: True\n",
       "    config_processes:update_oilfilm_thickness: False\n",
       "    opendrift_version: 1.0.6\n",
       "    time_coverage_end: 2018-01-17 22:20:00\n",
       "    geospatial_lat_min: 0.0\n",
       "    geospatial_lat_max: 0.0\n",
       "    geospatial_lat_units: degrees_north\n",
       "    geospatial_lat_resolution: point\n",
       "    geospatial_lon_min: 0.0\n",
       "    geospatial_lon_max: 0.0\n",
       "    geospatial_lon_units: degrees_east\n",
       "    geospatial_lon_resolution: point\n",
       "    runtime: 0:00:14.547000\n",
       "    dimensions(sizes): trajectory(2958), time(73)\n",
       "    variables(dimensions): int32 \u001b[4mtrajectory\u001b[0m(trajectory), float64 \u001b[4mtime\u001b[0m(time), float32 \u001b[4mage_seconds\u001b[0m(trajectory,time), float32 \u001b[4minterfacial_area\u001b[0m(trajectory,time), float32 \u001b[4mmass_evaporated\u001b[0m(trajectory,time), float32 \u001b[4mwater_fraction\u001b[0m(trajectory,time), float32 \u001b[4my_wind\u001b[0m(trajectory,time), float32 \u001b[4msea_ice_area_fraction\u001b[0m(trajectory,time), float32 \u001b[4mdensity\u001b[0m(trajectory,time), float32 \u001b[4mlon\u001b[0m(trajectory,time), float32 \u001b[4moil_film_thickness\u001b[0m(trajectory,time), float32 \u001b[4mx_sea_water_velocity\u001b[0m(trajectory,time), float32 \u001b[4mbulltime\u001b[0m(trajectory,time), float32 \u001b[4mx_wind\u001b[0m(trajectory,time), float32 \u001b[4mage_emulsion_seconds\u001b[0m(trajectory,time), float32 \u001b[4msea_surface_wave_stokes_drift_y_velocity\u001b[0m(trajectory,time), int32 \u001b[4mstatus\u001b[0m(trajectory,time), float32 \u001b[4mviscosity\u001b[0m(trajectory,time), float32 \u001b[4msea_floor_depth_below_sea_level\u001b[0m(trajectory,time), float32 \u001b[4mlat\u001b[0m(trajectory,time), float32 \u001b[4mmass_dispersed\u001b[0m(trajectory,time), float32 \u001b[4mland_binary_mask\u001b[0m(trajectory,time), float32 \u001b[4msea_surface_wave_significant_height\u001b[0m(trajectory,time), float32 \u001b[4msea_water_temperature\u001b[0m(trajectory,time), float32 \u001b[4mmass_oil\u001b[0m(trajectory,time), float32 \u001b[4mage_exposure_seconds\u001b[0m(trajectory,time), float32 \u001b[4msea_surface_wave_stokes_drift_x_velocity\u001b[0m(trajectory,time), float32 \u001b[4my_sea_water_velocity\u001b[0m(trajectory,time), float32 \u001b[4mz\u001b[0m(trajectory,time), float32 \u001b[4mwind_drift_factor\u001b[0m(trajectory,time), float32 \u001b[4mfraction_evaporated\u001b[0m(trajectory,time)\n",
       "    groups: "
      ]
     },
     "execution_count": 6,
     "metadata": {},
     "output_type": "execute_result"
    }
   ],
   "source": [
    "ds"
   ]
  },
  {
   "cell_type": "code",
   "execution_count": 7,
   "metadata": {},
   "outputs": [
    {
     "data": {
      "text/plain": [
       "odict_keys(['trajectory', 'time', 'age_seconds', 'interfacial_area', 'mass_evaporated', 'water_fraction', 'y_wind', 'sea_ice_area_fraction', 'density', 'lon', 'oil_film_thickness', 'x_sea_water_velocity', 'bulltime', 'x_wind', 'age_emulsion_seconds', 'sea_surface_wave_stokes_drift_y_velocity', 'status', 'viscosity', 'sea_floor_depth_below_sea_level', 'lat', 'mass_dispersed', 'land_binary_mask', 'sea_surface_wave_significant_height', 'sea_water_temperature', 'mass_oil', 'age_exposure_seconds', 'sea_surface_wave_stokes_drift_x_velocity', 'y_sea_water_velocity', 'z', 'wind_drift_factor', 'fraction_evaporated'])"
      ]
     },
     "execution_count": 7,
     "metadata": {},
     "output_type": "execute_result"
    }
   ],
   "source": [
    "ds.variables.keys()"
   ]
  },
  {
   "cell_type": "code",
   "execution_count": 8,
   "metadata": {},
   "outputs": [
    {
     "data": {
      "text/plain": [
       "odict_keys(['trajectory', 'time'])"
      ]
     },
     "execution_count": 8,
     "metadata": {},
     "output_type": "execute_result"
    }
   ],
   "source": [
    "# 查看维度\n",
    "ds.dimensions.keys()"
   ]
  },
  {
   "cell_type": "markdown",
   "metadata": {},
   "source": [
    "只有两个维度，`trajectory`与`time`"
   ]
  },
  {
   "cell_type": "markdown",
   "metadata": {},
   "source": [
    "## 2 读取维度相关"
   ]
  },
  {
   "cell_type": "markdown",
   "metadata": {},
   "source": [
    "### 获取轨迹"
   ]
  },
  {
   "cell_type": "code",
   "execution_count": 9,
   "metadata": {},
   "outputs": [
    {
     "data": {
      "text/plain": [
       "2958"
      ]
     },
     "execution_count": 9,
     "metadata": {},
     "output_type": "execute_result"
    }
   ],
   "source": [
    "len(ds['trajectory'][:])"
   ]
  },
  {
   "cell_type": "code",
   "execution_count": 10,
   "metadata": {},
   "outputs": [
    {
     "data": {
      "text/plain": [
       "masked_array(data=[   1,    2,    3, ..., 2956, 2957, 2958],\n",
       "             mask=False,\n",
       "       fill_value=999999)"
      ]
     },
     "execution_count": 10,
     "metadata": {},
     "output_type": "execute_result"
    }
   ],
   "source": [
    "ds['trajectory'][:]"
   ]
  },
  {
   "cell_type": "code",
   "execution_count": 11,
   "metadata": {},
   "outputs": [
    {
     "data": {
      "text/plain": [
       "2"
      ]
     },
     "execution_count": 11,
     "metadata": {},
     "output_type": "execute_result"
    }
   ],
   "source": [
    "# 找到其中一个\n",
    "ds['trajectory'][:][1]"
   ]
  },
  {
   "cell_type": "markdown",
   "metadata": {},
   "source": [
    "### 获取time  \n",
    "时间共73个"
   ]
  },
  {
   "cell_type": "code",
   "execution_count": 12,
   "metadata": {},
   "outputs": [
    {
     "data": {
      "text/plain": [
       "73"
      ]
     },
     "execution_count": 12,
     "metadata": {},
     "output_type": "execute_result"
    }
   ],
   "source": [
    "len(ds['time'][:])"
   ]
  },
  {
   "cell_type": "code",
   "execution_count": 6,
   "metadata": {},
   "outputs": [
    {
     "data": {
      "text/plain": [
       "<class 'netCDF4._netCDF4.Variable'>\n",
       "float64 time(time)\n",
       "    units: seconds since 1970-01-01 00:00:00\n",
       "    standard_name: time\n",
       "    long_name: time\n",
       "unlimited dimensions: \n",
       "current shape = (25,)\n",
       "filling on, default _FillValue of 9.969209968386869e+36 used"
      ]
     },
     "execution_count": 6,
     "metadata": {},
     "output_type": "execute_result"
    }
   ],
   "source": [
    "ds['time']"
   ]
  },
  {
   "cell_type": "code",
   "execution_count": 28,
   "metadata": {},
   "outputs": [
    {
     "data": {
      "text/plain": [
       "masked_array(data=[1.4691348e+09, 1.4691366e+09, 1.4691384e+09,\n",
       "                   1.4691402e+09, 1.4691420e+09, 1.4691438e+09,\n",
       "                   1.4691456e+09, 1.4691474e+09, 1.4691492e+09,\n",
       "                   1.4691510e+09, 1.4691528e+09, 1.4691546e+09,\n",
       "                   1.4691564e+09, 1.4691582e+09, 1.4691600e+09,\n",
       "                   1.4691618e+09, 1.4691636e+09, 1.4691654e+09,\n",
       "                   1.4691672e+09, 1.4691690e+09, 1.4691708e+09,\n",
       "                   1.4691726e+09, 1.4691744e+09, 1.4691762e+09,\n",
       "                   1.4691780e+09],\n",
       "             mask=False,\n",
       "       fill_value=1e+20)"
      ]
     },
     "execution_count": 28,
     "metadata": {},
     "output_type": "execute_result"
    }
   ],
   "source": [
    "ds['time'][:]"
   ]
  },
  {
   "cell_type": "markdown",
   "metadata": {},
   "source": [
    "## 3 读取变量"
   ]
  },
  {
   "cell_type": "markdown",
   "metadata": {},
   "source": [
    "### 读取经纬度"
   ]
  },
  {
   "cell_type": "code",
   "execution_count": 13,
   "metadata": {},
   "outputs": [
    {
     "data": {
      "text/plain": [
       "<class 'netCDF4._netCDF4.Variable'>\n",
       "float32 lat(trajectory, time)\n",
       "    coordinates: lat lon time\n",
       "    units: degrees_north\n",
       "    standard_name: latitude\n",
       "    long_name: latitude\n",
       "unlimited dimensions: \n",
       "current shape = (2958, 73)\n",
       "filling on, default _FillValue of 9.969209968386869e+36 used"
      ]
     },
     "execution_count": 13,
     "metadata": {},
     "output_type": "execute_result"
    }
   ],
   "source": [
    "ds['lat']"
   ]
  },
  {
   "cell_type": "code",
   "execution_count": 14,
   "metadata": {},
   "outputs": [
    {
     "data": {
      "text/plain": [
       "<class 'netCDF4._netCDF4.Variable'>\n",
       "float32 lon(trajectory, time)\n",
       "    coordinates: lat lon time\n",
       "    units: degrees_east\n",
       "    standard_name: longitude\n",
       "    long_name: longitude\n",
       "unlimited dimensions: \n",
       "current shape = (2958, 73)\n",
       "filling on, default _FillValue of 9.969209968386869e+36 used"
      ]
     },
     "execution_count": 14,
     "metadata": {},
     "output_type": "execute_result"
    }
   ],
   "source": [
    "ds['lon']"
   ]
  },
  {
   "cell_type": "markdown",
   "metadata": {},
   "source": [
    "对73个时刻的经纬度求平均值  \n",
    "如果别的案例里有粒子靠岸的话，求平均的时候要把靠岸的粒子剔除掉"
   ]
  },
  {
   "cell_type": "code",
   "execution_count": 16,
   "metadata": {},
   "outputs": [
    {
     "data": {
      "text/plain": [
       "73"
      ]
     },
     "execution_count": 16,
     "metadata": {},
     "output_type": "execute_result"
    }
   ],
   "source": [
    "ds['time'].size"
   ]
  },
  {
   "cell_type": "code",
   "execution_count": 29,
   "metadata": {},
   "outputs": [
    {
     "data": {
      "text/plain": [
       "2958"
      ]
     },
     "execution_count": 29,
     "metadata": {},
     "output_type": "execute_result"
    }
   ],
   "source": [
    "len(ds['lat'][:].T[0])"
   ]
  },
  {
   "cell_type": "markdown",
   "metadata": {},
   "source": [
    "按照时间获取所有的轨迹点 \n",
    "> 注意需要对某一个变量的矩阵先进行 转置 ，再按照下标读取（长度73个）"
   ]
  },
  {
   "cell_type": "code",
   "execution_count": 30,
   "metadata": {},
   "outputs": [
    {
     "data": {
      "text/plain": [
       "masked_array(\n",
       "  data=[[28.36937141418457, 28.369325637817383, 28.369295120239258, ...,\n",
       "         --, --, --],\n",
       "        [28.36955451965332, 28.373537063598633, 28.3829288482666, ...,\n",
       "         --, --, --],\n",
       "        [--, 28.39068031311035, --, ..., --, --, --],\n",
       "        ...,\n",
       "        [--, 28.44026756286621, --, ..., --, --, --],\n",
       "        [--, 28.429256439208984, --, ..., --, --, --],\n",
       "        [--, 28.45772933959961, --, ..., 28.367712020874023,\n",
       "         28.379928588867188, 28.375484466552734]],\n",
       "  mask=[[False, False, False, ...,  True,  True,  True],\n",
       "        [False, False, False, ...,  True,  True,  True],\n",
       "        [ True, False,  True, ...,  True,  True,  True],\n",
       "        ...,\n",
       "        [ True, False,  True, ...,  True,  True,  True],\n",
       "        [ True, False,  True, ...,  True,  True,  True],\n",
       "        [ True, False,  True, ..., False, False, False]],\n",
       "  fill_value=9.96921e+36,\n",
       "  dtype=float32)"
      ]
     },
     "execution_count": 30,
     "metadata": {},
     "output_type": "execute_result"
    }
   ],
   "source": [
    "ds['lat'][:].T"
   ]
  },
  {
   "cell_type": "code",
   "execution_count": 31,
   "metadata": {},
   "outputs": [
    {
     "data": {
      "text/plain": [
       "masked_array(data=[28.36937141418457, 28.369325637817383,\n",
       "                   28.369295120239258, ..., --, --, --],\n",
       "             mask=[False, False, False, ...,  True,  True,  True],\n",
       "       fill_value=9.96921e+36,\n",
       "            dtype=float32)"
      ]
     },
     "execution_count": 31,
     "metadata": {},
     "output_type": "execute_result"
    }
   ],
   "source": [
    "ds['lat'][:].T[0]"
   ]
  },
  {
   "cell_type": "markdown",
   "metadata": {},
   "source": [
    "根据时间维度遍历经纬度，并取平均值"
   ]
  },
  {
   "cell_type": "code",
   "execution_count": 37,
   "metadata": {},
   "outputs": [
    {
     "name": "stdout",
     "output_type": "stream",
     "text": [
      "0:28.369285946800595\n",
      "1:28.37451171875\n",
      "2:28.37786287006579\n",
      "3:28.38084746570122\n",
      "4:28.381984958400974\n",
      "5:28.379158266129032\n",
      "6:28.37642568912146\n",
      "7:28.37551249354339\n",
      "8:28.373883928571427\n",
      "9:28.37420215482026\n",
      "10:28.37706389925373\n",
      "11:28.383863772199454\n",
      "12:28.39144736842105\n",
      "13:28.399444361575178\n",
      "14:28.405360630580358\n",
      "15:28.409958881578948\n",
      "16:28.41013702632874\n",
      "17:28.407168151285045\n",
      "18:28.401532823542404\n",
      "19:28.395347829564848\n",
      "20:28.390202616869917\n",
      "21:28.38865966796875\n",
      "22:28.391369047619047\n",
      "23:28.398504273504273\n",
      "24:28.410381301440328\n",
      "25:28.425336657072368\n",
      "26:28.442340569338423\n",
      "27:28.457021640528904\n",
      "28:28.467798892920616\n",
      "29:28.475530998851895\n",
      "30:28.479506277746946\n",
      "31:28.481130326321466\n",
      "32:28.48226117484177\n",
      "33:28.483989197530864\n",
      "34:28.48824996871872\n",
      "35:28.49610899390244\n",
      "36:28.50712425595238\n",
      "37:28.51806144679132\n",
      "38:28.530382530968467\n",
      "39:28.5404403659612\n",
      "40:28.54443736587983\n",
      "41:28.545134883598994\n",
      "42:28.539387224938874\n",
      "43:28.531386843152866\n",
      "44:28.522470121473354\n",
      "45:28.51338341346154\n",
      "46:28.505251409774438\n",
      "47:28.500045955882353\n",
      "48:28.497958669354837\n",
      "49:28.497631578947367\n",
      "50:28.498990368002765\n",
      "51:28.500103776396458\n",
      "52:28.497389748831775\n",
      "53:28.491186683006536\n",
      "54:28.48106874598329\n",
      "55:28.46751359552333\n",
      "56:28.45257904298083\n",
      "57:28.439081496960487\n",
      "58:28.428768382352942\n",
      "59:28.42251256652868\n",
      "60:28.42056836392774\n",
      "61:28.42228512263339\n",
      "62:28.42443434325621\n",
      "63:28.42683910238624\n",
      "64:28.426458276380536\n",
      "65:28.422152217741935\n",
      "66:28.413454539438856\n",
      "67:28.40160891089109\n",
      "68:28.389160909383033\n",
      "69:28.376276967005076\n",
      "70:28.366952537593985\n",
      "71:28.362305651530107\n",
      "72:28.362283135115252\n"
     ]
    }
   ],
   "source": [
    "lat_arr=[]\n",
    "for temp in range(ds['time'].size):\n",
    "    lat_arr.append(ds['lat'][:].T[temp].mean())\n",
    "    print(f\"{temp}:{ds['lat'][:].T[temp].mean()}\")    "
   ]
  },
  {
   "cell_type": "code",
   "execution_count": 38,
   "metadata": {},
   "outputs": [
    {
     "data": {
      "text/plain": [
       "[28.369285946800595,\n",
       " 28.37451171875,\n",
       " 28.37786287006579,\n",
       " 28.38084746570122,\n",
       " 28.381984958400974,\n",
       " 28.379158266129032,\n",
       " 28.37642568912146,\n",
       " 28.37551249354339,\n",
       " 28.373883928571427,\n",
       " 28.37420215482026,\n",
       " 28.37706389925373,\n",
       " 28.383863772199454,\n",
       " 28.39144736842105,\n",
       " 28.399444361575178,\n",
       " 28.405360630580358,\n",
       " 28.409958881578948,\n",
       " 28.41013702632874,\n",
       " 28.407168151285045,\n",
       " 28.401532823542404,\n",
       " 28.395347829564848,\n",
       " 28.390202616869917,\n",
       " 28.38865966796875,\n",
       " 28.391369047619047,\n",
       " 28.398504273504273,\n",
       " 28.410381301440328,\n",
       " 28.425336657072368,\n",
       " 28.442340569338423,\n",
       " 28.457021640528904,\n",
       " 28.467798892920616,\n",
       " 28.475530998851895,\n",
       " 28.479506277746946,\n",
       " 28.481130326321466,\n",
       " 28.48226117484177,\n",
       " 28.483989197530864,\n",
       " 28.48824996871872,\n",
       " 28.49610899390244,\n",
       " 28.50712425595238,\n",
       " 28.51806144679132,\n",
       " 28.530382530968467,\n",
       " 28.5404403659612,\n",
       " 28.54443736587983,\n",
       " 28.545134883598994,\n",
       " 28.539387224938874,\n",
       " 28.531386843152866,\n",
       " 28.522470121473354,\n",
       " 28.51338341346154,\n",
       " 28.505251409774438,\n",
       " 28.500045955882353,\n",
       " 28.497958669354837,\n",
       " 28.497631578947367,\n",
       " 28.498990368002765,\n",
       " 28.500103776396458,\n",
       " 28.497389748831775,\n",
       " 28.491186683006536,\n",
       " 28.48106874598329,\n",
       " 28.46751359552333,\n",
       " 28.45257904298083,\n",
       " 28.439081496960487,\n",
       " 28.428768382352942,\n",
       " 28.42251256652868,\n",
       " 28.42056836392774,\n",
       " 28.42228512263339,\n",
       " 28.42443434325621,\n",
       " 28.42683910238624,\n",
       " 28.426458276380536,\n",
       " 28.422152217741935,\n",
       " 28.413454539438856,\n",
       " 28.40160891089109,\n",
       " 28.389160909383033,\n",
       " 28.376276967005076,\n",
       " 28.366952537593985,\n",
       " 28.362305651530107,\n",
       " 28.362283135115252]"
      ]
     },
     "execution_count": 38,
     "metadata": {},
     "output_type": "execute_result"
    }
   ],
   "source": [
    "lat_arr"
   ]
  },
  {
   "cell_type": "code",
   "execution_count": null,
   "metadata": {},
   "outputs": [],
   "source": []
  }
 ],
 "metadata": {
  "kernelspec": {
   "display_name": "Python 3",
   "language": "python",
   "name": "python3"
  },
  "language_info": {
   "codemirror_mode": {
    "name": "ipython",
    "version": 3
   },
   "file_extension": ".py",
   "mimetype": "text/x-python",
   "name": "python",
   "nbconvert_exporter": "python",
   "pygments_lexer": "ipython3",
   "version": "3.7.4"
  }
 },
 "nbformat": 4,
 "nbformat_minor": 2
}
