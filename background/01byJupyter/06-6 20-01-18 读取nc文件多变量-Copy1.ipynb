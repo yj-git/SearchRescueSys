{
 "cells": [
  {
   "cell_type": "code",
   "execution_count": 1,
   "metadata": {},
   "outputs": [],
   "source": [
    "import numpy as np\n",
    "import netCDF4 as nc\n",
    "import pandas as pd\n",
    "import numpy.ma as ma"
   ]
  },
  {
   "cell_type": "code",
   "execution_count": 2,
   "metadata": {},
   "outputs": [],
   "source": [
    "import matplotlib as mpl\n",
    "import matplotlib.pyplot as plt"
   ]
  },
  {
   "cell_type": "code",
   "execution_count": 3,
   "metadata": {},
   "outputs": [],
   "source": [
    "import xarray as xar"
   ]
  },
  {
   "cell_type": "code",
   "execution_count": 4,
   "metadata": {},
   "outputs": [],
   "source": [
    "file_path='/Users/evaseemefly/Documents/03Data/nc/1/FORECAST/OIL/2020/4/10/ceshi_code_20200508125917369902.nc'"
   ]
  },
  {
   "cell_type": "code",
   "execution_count": 5,
   "metadata": {},
   "outputs": [],
   "source": [
    "ds=nc.Dataset(file_path)"
   ]
  },
  {
   "cell_type": "markdown",
   "metadata": {},
   "source": [
    "## 获取dateset中的 variables以及维度"
   ]
  },
  {
   "cell_type": "code",
   "execution_count": 28,
   "metadata": {},
   "outputs": [
    {
     "data": {
      "text/plain": [
       "Data variables:\n",
       "    status   (trajectory, time) int32 0 0 0 ... -2147483647 -2147483647"
      ]
     },
     "execution_count": 28,
     "metadata": {},
     "output_type": "execute_result"
    }
   ],
   "source": [
    "ds_xr.data_vars"
   ]
  },
  {
   "cell_type": "code",
   "execution_count": 24,
   "metadata": {},
   "outputs": [
    {
     "data": {
      "text/plain": [
       "Frozen(SortedKeysDict({'trajectory': 3000, 'time': 145}))"
      ]
     },
     "execution_count": 24,
     "metadata": {},
     "output_type": "execute_result"
    }
   ],
   "source": [
    "ds_xr.dims"
   ]
  },
  {
   "cell_type": "code",
   "execution_count": 25,
   "metadata": {},
   "outputs": [
    {
     "data": {
      "text/plain": [
       "Coordinates:\n",
       "  * trajectory  (trajectory) int32 1 2 3 4 5 6 ... 2995 2996 2997 2998 2999 3000\n",
       "  * time        (time) datetime64[ns] 2020-04-10 ... 2020-04-16\n",
       "    lon         (trajectory, time) float32 ...\n",
       "    lat         (trajectory, time) float32 ..."
      ]
     },
     "execution_count": 25,
     "metadata": {},
     "output_type": "execute_result"
    }
   ],
   "source": [
    "ds_xr.coords"
   ]
  },
  {
   "cell_type": "code",
   "execution_count": 26,
   "metadata": {},
   "outputs": [
    {
     "data": {
      "text/plain": [
       "{'Conventions': 'CF-1.6',\n",
       " 'standard_name_vocabulary': 'CF-1.6',\n",
       " 'featureType': 'trajectory',\n",
       " 'history': 'Created 2020-05-08 12:59:24.885743',\n",
       " 'source': 'Output from simulation with OpenDrift',\n",
       " 'model_url': 'https://github.com/OpenDrift/opendrift',\n",
       " 'opendrift_class': 'OpenOil',\n",
       " 'opendrift_module': 'opendrift.models.openoil',\n",
       " 'readers': \"odict_keys(['/Users/evaseemefly/Documents/03Data/nc/COMMON/DAILY/2020/4/10/ecs_new_current_20200410.nc', 'global_landmask'])\",\n",
       " 'time_coverage_start': '2020-04-10 00:00:00',\n",
       " 'time_step_calculation': '0:30:00',\n",
       " 'time_step_output': '1:00:00',\n",
       " 'config_seed:oil_type': 'AASGAR',\n",
       " 'config_seed:ocean_only': 'True',\n",
       " 'config_general:use_auto_landmask': 'True',\n",
       " 'config_general:coastline_action': 'stranding',\n",
       " 'config_general:time_step_minutes': 60,\n",
       " 'config_general:time_step_output_minutes': 'None',\n",
       " 'config_drift:max_age_seconds': 'None',\n",
       " 'config_drift:scheme': 'euler',\n",
       " 'config_drift:stokes_drift': 'True',\n",
       " 'config_drift:current_uncertainty': 0.1,\n",
       " 'config_drift:current_uncertainty_uniform': 0.0,\n",
       " 'config_drift:wind_uncertainty': 1.0,\n",
       " 'config_drift:relative_wind': 'False',\n",
       " 'config_drift:lift_to_seafloor': 'True',\n",
       " 'config_drift:truncate_ocean_model_below_m': 'None',\n",
       " 'config_drift:deactivate_north_of': 'None',\n",
       " 'config_drift:deactivate_south_of': 'None',\n",
       " 'config_drift:deactivate_east_of': 'None',\n",
       " 'config_drift:deactivate_west_of': 'None',\n",
       " 'config_drift:use_tabularised_stokes_drift': 'False',\n",
       " 'config_drift:tabularised_stokes_drift_fetch': '25000',\n",
       " 'config_processes:dispersion': 'True',\n",
       " 'config_processes:evaporation': 'True',\n",
       " 'config_processes:emulsification': 'True',\n",
       " 'config_processes:biodegradation': 'False',\n",
       " 'config_processes:update_oilfilm_thickness': 'False',\n",
       " 'opendrift_version': '1.2.0',\n",
       " 'steps_exported': 145,\n",
       " 'time_coverage_end': '2020-04-16 00:00:00',\n",
       " 'performance': '--------------------\\nReader performance:\\n--------------------\\n/Users/evaseemefly/Documents/03Data/nc/COMMON/DAILY/2020/4/10/ecs_new_current_20200410.nc\\n 0:00:19.1  total\\n 0:00:00.2  preparing\\n 0:00:01.6  reading\\n 0:00:00.5  interpolation\\n 0:00:00.0  interpolation_time\\n 0:00:16.6  rotating vectors\\n 0:00:00.0  masking\\n--------------------\\nglobal_landmask\\n 0:00:01.2  total\\n 0:00:00.1  preparing\\n 0:00:01.0  reading\\n 0:00:00.0  interpolation_time\\n 0:00:00.0  masking\\n--------------------\\nPerformance:\\n      0 total time\\n    0.0 configuration\\n    7.4 preparing main loop\\n      7.3 making dynamical landmask\\n      0.0 moving elements to ocean\\n     25.5 readers\\n        1.3 global_landmask\\n        3.4 postprocessing\\n   29.9 main loop\\n       19.3 /Users/evaseemefly/Documents/03Data/nc/COMMON/DAILY/2020/4/10/ecs_new_current_20200410.nc\\n      2.1 updating elements\\n        0.6 oil weathering\\n      0 cleaning up\\n--------------------\\n',\n",
       " 'geospatial_lat_min': 0.0,\n",
       " 'geospatial_lat_max': 0.0,\n",
       " 'geospatial_lat_units': 'degrees_north',\n",
       " 'geospatial_lat_resolution': 'point',\n",
       " 'geospatial_lon_min': 0.0,\n",
       " 'geospatial_lon_max': 0.0,\n",
       " 'geospatial_lon_units': 'degrees_east',\n",
       " 'geospatial_lon_resolution': 'point',\n",
       " 'runtime': '0:00:37.447731'}"
      ]
     },
     "execution_count": 26,
     "metadata": {},
     "output_type": "execute_result"
    }
   ],
   "source": [
    "ds_xr.attrs"
   ]
  },
  {
   "cell_type": "markdown",
   "metadata": {},
   "source": [
    "获取所有的维度  \n",
    "* 注意获取维度时，不可以使用下标进行索引，会报错"
   ]
  },
  {
   "cell_type": "markdown",
   "metadata": {},
   "source": [
    "## 获取`几个指定维度的`的`DataArray`  \n",
    "如下可知：\n",
    "    `mass_oil`有2958个值，该物理量有两个维度，分别为`trajectory`,`time`"
   ]
  },
  {
   "cell_type": "markdown",
   "metadata": {},
   "source": [
    "#### 查看不同时刻的\n",
    "并通过`where`剔除掉大于`max`以及`nan`的值  \n",
    "使用xarray的dropna方法，注意与pandas中的方法有所区别"
   ]
  },
  {
   "cell_type": "markdown",
   "metadata": {},
   "source": [
    "提示错误：\n",
    "`ValueError: any must be a single dataset dimension`  \n",
    "查看文档后发现`xarray.Dataset.dropna`尚不支持同时沿多个维度放置  \n",
    "\n",
    "[参考](http://xarray.pydata.org/en/stable/generated/xarray.Dataset.dropna.html)  \n",
    "\n",
    "考虑将xarray转换为dateframe，然后再清洗？  \n",
    "[上网参考](https://stackoverflow.com/questions/52553925/python-xarray-remove-coordinates-with-all-missing-variables)\n",
    "比较好的解决办法是：\n",
    "1. 将`DataSet`->`DataFrame`\n",
    "2. 在`DataFrame`中通过`pandas` `dropna` 即可"
   ]
  },
  {
   "cell_type": "code",
   "execution_count": 7,
   "metadata": {},
   "outputs": [
    {
     "data": {
      "text/html": [
       "<pre>&lt;xarray.DataArray &#x27;status&#x27; (trajectory: 3000)&gt;\n",
       "array([          0,           0, -2147483647, ..., -2147483647, -2147483647,\n",
       "       -2147483647], dtype=int32)\n",
       "Coordinates:\n",
       "  * trajectory  (trajectory) int32 1 2 3 4 5 6 ... 2995 2996 2997 2998 2999 3000\n",
       "    time        datetime64[ns] 2020-04-11T06:00:00\n",
       "    lon         (trajectory) float32 ...\n",
       "    lat         (trajectory) float32 ...\n",
       "Attributes:\n",
       "    valid_range:    [0 2]\n",
       "    flag_values:    [0 1 2]\n",
       "    flag_meanings:  active evaporated stranded</pre>"
      ],
      "text/plain": [
       "<xarray.DataArray 'status' (trajectory: 3000)>\n",
       "array([          0,           0, -2147483647, ..., -2147483647, -2147483647,\n",
       "       -2147483647], dtype=int32)\n",
       "Coordinates:\n",
       "  * trajectory  (trajectory) int32 1 2 3 4 5 6 ... 2995 2996 2997 2998 2999 3000\n",
       "    time        datetime64[ns] 2020-04-11T06:00:00\n",
       "    lon         (trajectory) float32 ...\n",
       "    lat         (trajectory) float32 ...\n",
       "Attributes:\n",
       "    valid_range:    [0 2]\n",
       "    flag_values:    [0 1 2]\n",
       "    flag_meanings:  active evaporated stranded"
      ]
     },
     "execution_count": 7,
     "metadata": {},
     "output_type": "execute_result"
    }
   ],
   "source": [
    "ds_xr.isel(time=30)['status']"
   ]
  },
  {
   "cell_type": "code",
   "execution_count": 8,
   "metadata": {},
   "outputs": [
    {
     "data": {
      "text/html": [
       "<pre>&lt;xarray.DataArray &#x27;mass_evaporated&#x27; (trajectory: 2958)&gt;\n",
       "array([9.969210e+36, 5.300872e+02, 9.969210e+36, ..., 9.969210e+36,\n",
       "       9.969210e+36, 9.969210e+36], dtype=float32)\n",
       "Coordinates:\n",
       "  * trajectory  (trajectory) int32 1 2 3 4 5 6 ... 2953 2954 2955 2956 2957 2958\n",
       "    time        datetime64[ns] 2018-01-16T04:20:00\n",
       "    lon         (trajectory) float32 ...\n",
       "    lat         (trajectory) float32 ...\n",
       "Attributes:\n",
       "    units:    kg</pre>"
      ],
      "text/plain": [
       "<xarray.DataArray 'mass_evaporated' (trajectory: 2958)>\n",
       "array([9.969210e+36, 5.300872e+02, 9.969210e+36, ..., 9.969210e+36,\n",
       "       9.969210e+36, 9.969210e+36], dtype=float32)\n",
       "Coordinates:\n",
       "  * trajectory  (trajectory) int32 1 2 3 4 5 6 ... 2953 2954 2955 2956 2957 2958\n",
       "    time        datetime64[ns] 2018-01-16T04:20:00\n",
       "    lon         (trajectory) float32 ...\n",
       "    lat         (trajectory) float32 ...\n",
       "Attributes:\n",
       "    units:    kg"
      ]
     },
     "execution_count": 8,
     "metadata": {},
     "output_type": "execute_result"
    }
   ],
   "source": [
    "ds_xr.isel(time=30)['mass_evaporated']"
   ]
  },
  {
   "cell_type": "code",
   "execution_count": 9,
   "metadata": {},
   "outputs": [
    {
     "data": {
      "text/html": [
       "<pre>&lt;xarray.DataArray &#x27;status&#x27; (trajectory: 2958)&gt;\n",
       "array([-2147483647,           0, -2147483647, ..., -2147483647, -2147483647,\n",
       "       -2147483647])\n",
       "Coordinates:\n",
       "  * trajectory  (trajectory) int32 1 2 3 4 5 6 ... 2953 2954 2955 2956 2957 2958\n",
       "    time        datetime64[ns] 2018-01-16T04:20:00\n",
       "    lon         (trajectory) float32 ...\n",
       "    lat         (trajectory) float32 ...\n",
       "Attributes:\n",
       "    valid_range:    [0 1]\n",
       "    flag_values:    [0 1]\n",
       "    flag_meanings:  active evaporated</pre>"
      ],
      "text/plain": [
       "<xarray.DataArray 'status' (trajectory: 2958)>\n",
       "array([-2147483647,           0, -2147483647, ..., -2147483647, -2147483647,\n",
       "       -2147483647])\n",
       "Coordinates:\n",
       "  * trajectory  (trajectory) int32 1 2 3 4 5 6 ... 2953 2954 2955 2956 2957 2958\n",
       "    time        datetime64[ns] 2018-01-16T04:20:00\n",
       "    lon         (trajectory) float32 ...\n",
       "    lat         (trajectory) float32 ...\n",
       "Attributes:\n",
       "    valid_range:    [0 1]\n",
       "    flag_values:    [0 1]\n",
       "    flag_meanings:  active evaporated"
      ]
     },
     "execution_count": 9,
     "metadata": {},
     "output_type": "execute_result"
    }
   ],
   "source": [
    "ds_xr.isel(time=30)['status']"
   ]
  },
  {
   "cell_type": "markdown",
   "metadata": {},
   "source": [
    "对于未做任何处理的`dataarray`的len为`2958`  \n",
    "使用max与min方法操作dataset  \n",
    "`max`为1  \n",
    "`min`为-2147xxxx"
   ]
  },
  {
   "cell_type": "code",
   "execution_count": 9,
   "metadata": {},
   "outputs": [],
   "source": [
    "xr_temp_x=ds_xr.isel(time=30)['status']"
   ]
  },
  {
   "cell_type": "code",
   "execution_count": 10,
   "metadata": {},
   "outputs": [
    {
     "data": {
      "text/html": [
       "<pre>&lt;xarray.DataArray &#x27;status&#x27; ()&gt;\n",
       "array(1, dtype=int32)\n",
       "Coordinates:\n",
       "    time     datetime64[ns] 2020-04-11T06:00:00</pre>"
      ],
      "text/plain": [
       "<xarray.DataArray 'status' ()>\n",
       "array(1, dtype=int32)\n",
       "Coordinates:\n",
       "    time     datetime64[ns] 2020-04-11T06:00:00"
      ]
     },
     "execution_count": 10,
     "metadata": {},
     "output_type": "execute_result"
    }
   ],
   "source": [
    "xr_temp_x.max()"
   ]
  },
  {
   "cell_type": "code",
   "execution_count": 11,
   "metadata": {},
   "outputs": [
    {
     "data": {
      "text/html": [
       "<pre>&lt;xarray.DataArray &#x27;status&#x27; ()&gt;\n",
       "array(-2147483647, dtype=int32)\n",
       "Coordinates:\n",
       "    time     datetime64[ns] 2020-04-11T06:00:00</pre>"
      ],
      "text/plain": [
       "<xarray.DataArray 'status' ()>\n",
       "array(-2147483647, dtype=int32)\n",
       "Coordinates:\n",
       "    time     datetime64[ns] 2020-04-11T06:00:00"
      ]
     },
     "execution_count": 11,
     "metadata": {},
     "output_type": "execute_result"
    }
   ],
   "source": [
    "xr_temp_x.min()"
   ]
  },
  {
   "cell_type": "code",
   "execution_count": 12,
   "metadata": {},
   "outputs": [
    {
     "name": "stderr",
     "output_type": "stream",
     "text": [
      "/Users/evaseemefly/opt/anaconda3/lib/python3.7/site-packages/numpy/core/fromnumeric.py:90: RuntimeWarning: overflow encountered in reduce\n",
      "  return ufunc.reduce(obj, axis, dtype, out, **passkwargs)\n"
     ]
    },
    {
     "data": {
      "text/plain": [
       "array(inf, dtype=float32)"
      ]
     },
     "execution_count": 12,
     "metadata": {},
     "output_type": "execute_result"
    }
   ],
   "source": [
    "ds_xr.isel(time=30)['lat'].mean().data"
   ]
  },
  {
   "cell_type": "markdown",
   "metadata": {},
   "source": [
    "## 1-先对dataarray进行过滤，先剔除<0的  \n",
    "先剔除<0的部分后发现len并未减少？  \n",
    "* 原因是看其中的array已经出现了nan的掩码，需要剔除"
   ]
  },
  {
   "cell_type": "code",
   "execution_count": 13,
   "metadata": {},
   "outputs": [
    {
     "data": {
      "text/html": [
       "<pre>&lt;xarray.DataArray &#x27;status&#x27; (trajectory: 3000)&gt;\n",
       "array([ 0.,  0., nan, ..., nan, nan, nan])\n",
       "Coordinates:\n",
       "  * trajectory  (trajectory) int32 1 2 3 4 5 6 ... 2995 2996 2997 2998 2999 3000\n",
       "    time        datetime64[ns] 2020-04-11T06:00:00\n",
       "    lon         (trajectory) float32 123.02885 123.14317 ... 9.96921e+36\n",
       "    lat         (trajectory) float32 26.359228 26.336838 ... 9.96921e+36\n",
       "Attributes:\n",
       "    valid_range:    [0 2]\n",
       "    flag_values:    [0 1 2]\n",
       "    flag_meanings:  active evaporated stranded</pre>"
      ],
      "text/plain": [
       "<xarray.DataArray 'status' (trajectory: 3000)>\n",
       "array([ 0.,  0., nan, ..., nan, nan, nan])\n",
       "Coordinates:\n",
       "  * trajectory  (trajectory) int32 1 2 3 4 5 6 ... 2995 2996 2997 2998 2999 3000\n",
       "    time        datetime64[ns] 2020-04-11T06:00:00\n",
       "    lon         (trajectory) float32 123.02885 123.14317 ... 9.96921e+36\n",
       "    lat         (trajectory) float32 26.359228 26.336838 ... 9.96921e+36\n",
       "Attributes:\n",
       "    valid_range:    [0 2]\n",
       "    flag_values:    [0 1 2]\n",
       "    flag_meanings:  active evaporated stranded"
      ]
     },
     "execution_count": 13,
     "metadata": {},
     "output_type": "execute_result"
    }
   ],
   "source": [
    "xr_temp_x.where(xr_temp_x>=0)"
   ]
  },
  {
   "cell_type": "code",
   "execution_count": 14,
   "metadata": {},
   "outputs": [
    {
     "data": {
      "text/html": [
       "<pre>&lt;xarray.DataArray &#x27;status&#x27; (trajectory: 3000)&gt;\n",
       "array([ 0.,  0., nan, ..., nan, nan, nan])\n",
       "Coordinates:\n",
       "  * trajectory  (trajectory) int32 1 2 3 4 5 6 ... 2995 2996 2997 2998 2999 3000\n",
       "    time        datetime64[ns] 2020-04-11T06:00:00\n",
       "    lon         (trajectory) float32 123.02885 123.14317 ... 9.96921e+36\n",
       "    lat         (trajectory) float32 26.359228 26.336838 ... 9.96921e+36\n",
       "Attributes:\n",
       "    valid_range:    [0 2]\n",
       "    flag_values:    [0 1 2]\n",
       "    flag_meanings:  active evaporated stranded</pre>"
      ],
      "text/plain": [
       "<xarray.DataArray 'status' (trajectory: 3000)>\n",
       "array([ 0.,  0., nan, ..., nan, nan, nan])\n",
       "Coordinates:\n",
       "  * trajectory  (trajectory) int32 1 2 3 4 5 6 ... 2995 2996 2997 2998 2999 3000\n",
       "    time        datetime64[ns] 2020-04-11T06:00:00\n",
       "    lon         (trajectory) float32 123.02885 123.14317 ... 9.96921e+36\n",
       "    lat         (trajectory) float32 26.359228 26.336838 ... 9.96921e+36\n",
       "Attributes:\n",
       "    valid_range:    [0 2]\n",
       "    flag_values:    [0 1 2]\n",
       "    flag_meanings:  active evaporated stranded"
      ]
     },
     "execution_count": 14,
     "metadata": {},
     "output_type": "execute_result"
    }
   ],
   "source": [
    "# 再对status进行<1的筛选，当=1 时表示粒子死亡（到了落地——需要再看api）\n",
    "xr_temp_x.where(xr_temp_x>=0).where(xr_temp_x<1)"
   ]
  },
  {
   "cell_type": "markdown",
   "metadata": {},
   "source": [
    "### dropna的方式1：直接对DataArray进行dropna  \n",
    "* TypeError: dropna() missing 1 required positional argument: 'dim'"
   ]
  },
  {
   "cell_type": "code",
   "execution_count": 19,
   "metadata": {},
   "outputs": [
    {
     "data": {
      "text/html": [
       "<pre>&lt;xarray.DataArray &#x27;status&#x27; (trajectory: 5)&gt;\n",
       "array([0., 0., 0., 0., 0.])\n",
       "Coordinates:\n",
       "  * trajectory  (trajectory) int32 1 2 5 6 8\n",
       "    time        datetime64[ns] 2020-04-11T06:00:00\n",
       "    lon         (trajectory) float32 123.02885 123.14317 ... 123.06378 123.03001\n",
       "    lat         (trajectory) float32 26.359228 26.336838 ... 26.344925 26.394875\n",
       "Attributes:\n",
       "    valid_range:    [0 2]\n",
       "    flag_values:    [0 1 2]\n",
       "    flag_meanings:  active evaporated stranded</pre>"
      ],
      "text/plain": [
       "<xarray.DataArray 'status' (trajectory: 5)>\n",
       "array([0., 0., 0., 0., 0.])\n",
       "Coordinates:\n",
       "  * trajectory  (trajectory) int32 1 2 5 6 8\n",
       "    time        datetime64[ns] 2020-04-11T06:00:00\n",
       "    lon         (trajectory) float32 123.02885 123.14317 ... 123.06378 123.03001\n",
       "    lat         (trajectory) float32 26.359228 26.336838 ... 26.344925 26.394875\n",
       "Attributes:\n",
       "    valid_range:    [0 2]\n",
       "    flag_values:    [0 1 2]\n",
       "    flag_meanings:  active evaporated stranded"
      ]
     },
     "execution_count": 19,
     "metadata": {},
     "output_type": "execute_result"
    }
   ],
   "source": [
    "xr_filter=xr_temp_x.where(xr_temp_x>=0).dropna(dim='trajectory',how='any')\n",
    "xr_filter.head()"
   ]
  },
  {
   "cell_type": "markdown",
   "metadata": {},
   "source": [
    "## 问题:\n",
    "输出的nc文件 变量有问题"
   ]
  },
  {
   "cell_type": "code",
   "execution_count": 16,
   "metadata": {},
   "outputs": [
    {
     "data": {
      "text/plain": [
       "1377"
      ]
     },
     "execution_count": 16,
     "metadata": {},
     "output_type": "execute_result"
    }
   ],
   "source": [
    "# 查看一下长度\n",
    "len(xr_filter)"
   ]
  },
  {
   "cell_type": "markdown",
   "metadata": {},
   "source": [
    "### dropna的方式2：由于xarray中`DataArray`的dropna也是继承自`pandas`与`numpy`的  \n",
    "* xarray objects borrow the isnull(), notnull(), count(), dropna(), fillna(), ffill(), and bfill() methods for working with missing data from pandas:   \n",
    " \n",
    "[missing values](https://xarray-test.readthedocs.io/en/latest/computation.html)"
   ]
  },
  {
   "cell_type": "code",
   "execution_count": 19,
   "metadata": {},
   "outputs": [
    {
     "data": {
      "text/plain": [
       "901"
      ]
     },
     "execution_count": 19,
     "metadata": {},
     "output_type": "execute_result"
    }
   ],
   "source": [
    "len(xr_temp_x.where(xr_temp_x>=0).to_dataframe().dropna(how='any'))"
   ]
  },
  {
   "cell_type": "markdown",
   "metadata": {},
   "source": [
    "## 2 求均值"
   ]
  },
  {
   "cell_type": "code",
   "execution_count": 17,
   "metadata": {},
   "outputs": [
    {
     "data": {
      "text/html": [
       "<pre>&lt;xarray.DataArray &#x27;lat&#x27; ()&gt;\n",
       "array(26.270496, dtype=float32)\n",
       "Coordinates:\n",
       "    time     datetime64[ns] 2020-04-11T06:00:00</pre>"
      ],
      "text/plain": [
       "<xarray.DataArray 'lat' ()>\n",
       "array(26.270496, dtype=float32)\n",
       "Coordinates:\n",
       "    time     datetime64[ns] 2020-04-11T06:00:00"
      ]
     },
     "execution_count": 17,
     "metadata": {},
     "output_type": "execute_result"
    }
   ],
   "source": [
    "xr_filter['lat'].mean()"
   ]
  },
  {
   "cell_type": "code",
   "execution_count": 18,
   "metadata": {},
   "outputs": [
    {
     "data": {
      "text/html": [
       "<pre>&lt;xarray.DataArray &#x27;lon&#x27; ()&gt;\n",
       "array(122.85045, dtype=float32)\n",
       "Coordinates:\n",
       "    time     datetime64[ns] 2020-04-11T06:00:00</pre>"
      ],
      "text/plain": [
       "<xarray.DataArray 'lon' ()>\n",
       "array(122.85045, dtype=float32)\n",
       "Coordinates:\n",
       "    time     datetime64[ns] 2020-04-11T06:00:00"
      ]
     },
     "execution_count": 18,
     "metadata": {},
     "output_type": "execute_result"
    }
   ],
   "source": [
    "xr_filter['lon'].mean()"
   ]
  },
  {
   "cell_type": "code",
   "execution_count": 22,
   "metadata": {},
   "outputs": [
    {
     "data": {
      "text/html": [
       "<pre>&lt;xarray.DataArray &#x27;status&#x27; ()&gt;\n",
       "array(0.01664817)\n",
       "Coordinates:\n",
       "    time     datetime64[ns] 2018-01-16T04:20:00</pre>"
      ],
      "text/plain": [
       "<xarray.DataArray 'status' ()>\n",
       "array(0.01664817)\n",
       "Coordinates:\n",
       "    time     datetime64[ns] 2018-01-16T04:20:00"
      ]
     },
     "execution_count": 22,
     "metadata": {},
     "output_type": "execute_result"
    }
   ],
   "source": [
    "xr_filter.mean()"
   ]
  },
  {
   "cell_type": "markdown",
   "metadata": {},
   "source": [
    "获取均值结果  \n",
    "对于`ndarray.data.tolist()`"
   ]
  },
  {
   "cell_type": "code",
   "execution_count": 23,
   "metadata": {},
   "outputs": [
    {
     "data": {
      "text/plain": [
       "28.479509353637695"
      ]
     },
     "execution_count": 23,
     "metadata": {},
     "output_type": "execute_result"
    }
   ],
   "source": [
    "# 获取DataArray的唯一值\n",
    "xr_filter['lat'].mean().data.tolist()"
   ]
  },
  {
   "cell_type": "code",
   "execution_count": 24,
   "metadata": {},
   "outputs": [
    {
     "data": {
      "text/plain": [
       "125.88218688964844"
      ]
     },
     "execution_count": 24,
     "metadata": {},
     "output_type": "execute_result"
    }
   ],
   "source": [
    "xr_filter['lon'].mean().data.tolist()"
   ]
  },
  {
   "cell_type": "code",
   "execution_count": 39,
   "metadata": {},
   "outputs": [
    {
     "data": {
      "text/plain": [
       "array(125.88219, dtype=float32)"
      ]
     },
     "execution_count": 39,
     "metadata": {},
     "output_type": "execute_result"
    }
   ],
   "source": [
    "xr_filter['lon'].mean().values"
   ]
  },
  {
   "cell_type": "code",
   "execution_count": 69,
   "metadata": {},
   "outputs": [
    {
     "data": {
      "text/plain": [
       "0.016648168701442843"
      ]
     },
     "execution_count": 69,
     "metadata": {},
     "output_type": "execute_result"
    }
   ],
   "source": [
    "xr_filter.mean().data.tolist()"
   ]
  },
  {
   "cell_type": "markdown",
   "metadata": {},
   "source": [
    "## 20-05-08 处理动态生成的nc文件时出现的问题"
   ]
  },
  {
   "cell_type": "code",
   "execution_count": null,
   "metadata": {},
   "outputs": [],
   "source": []
  }
 ],
 "metadata": {
  "kernelspec": {
   "display_name": "Python 3",
   "language": "python",
   "name": "python3"
  },
  "language_info": {
   "codemirror_mode": {
    "name": "ipython",
    "version": 3
   },
   "file_extension": ".py",
   "mimetype": "text/x-python",
   "name": "python",
   "nbconvert_exporter": "python",
   "pygments_lexer": "ipython3",
   "version": "3.7.4"
  }
 },
 "nbformat": 4,
 "nbformat_minor": 2
}
