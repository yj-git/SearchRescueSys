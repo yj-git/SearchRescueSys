{
 "cells": [
  {
   "cell_type": "code",
   "execution_count": 5,
   "metadata": {},
   "outputs": [],
   "source": [
    "import numpy as np\n",
    "import netCDF4 as nc\n",
    "import pandas as pd\n",
    "import numpy.ma as ma\n",
    "import matplotlib as mpl\n",
    "import matplotlib.pyplot as plt\n",
    "import xarray as xar"
   ]
  },
  {
   "cell_type": "code",
   "execution_count": 6,
   "metadata": {},
   "outputs": [],
   "source": [
    "file_path=r'D:\\01proj\\SearchRescueSys\\data\\download\\ecs_new_current_20200407.nc'"
   ]
  },
  {
   "cell_type": "code",
   "execution_count": 7,
   "metadata": {},
   "outputs": [
    {
     "data": {
      "text/html": [
       "<pre>&lt;xarray.Dataset&gt;\n",
       "Dimensions:  (lat: 565, lon: 564, time: 157)\n",
       "Coordinates:\n",
       "  * lon      (lon) float64 114.2 114.3 114.3 114.3 ... 132.9 132.9 133.0 133.0\n",
       "  * lat      (lat) float64 22.2 22.23 22.27 22.3 22.33 ... 40.9 40.93 40.97 41.0\n",
       "  * time     (time) datetime64[ns] 2020-04-06T12:00:00 ... 2020-04-13\n",
       "Data variables:\n",
       "    u        (time, lat, lon) float32 ...\n",
       "    v        (time, lat, lon) float32 ...</pre>"
      ],
      "text/plain": [
       "<xarray.Dataset>\n",
       "Dimensions:  (lat: 565, lon: 564, time: 157)\n",
       "Coordinates:\n",
       "  * lon      (lon) float64 114.2 114.3 114.3 114.3 ... 132.9 132.9 133.0 133.0\n",
       "  * lat      (lat) float64 22.2 22.23 22.27 22.3 22.33 ... 40.9 40.93 40.97 41.0\n",
       "  * time     (time) datetime64[ns] 2020-04-06T12:00:00 ... 2020-04-13\n",
       "Data variables:\n",
       "    u        (time, lat, lon) float32 ...\n",
       "    v        (time, lat, lon) float32 ..."
      ]
     },
     "execution_count": 7,
     "metadata": {},
     "output_type": "execute_result"
    }
   ],
   "source": [
    "ds_xr=xar.open_dataset(file_path)\n",
    "ds_xr"
   ]
  },
  {
   "cell_type": "code",
   "execution_count": 8,
   "metadata": {},
   "outputs": [
    {
     "data": {
      "text/html": [
       "<pre>&lt;xarray.Dataset&gt;\n",
       "Dimensions:  (lat: 565, lon: 564, time: 157)\n",
       "Coordinates:\n",
       "  * lon      (lon) float64 114.2 114.3 114.3 114.3 ... 132.9 132.9 133.0 133.0\n",
       "  * lat      (lat) float64 22.2 22.23 22.27 22.3 22.33 ... 40.9 40.93 40.97 41.0\n",
       "  * time     (time) datetime64[ns] 2020-04-06T12:00:00 ... 2020-04-13\n",
       "Data variables:\n",
       "    u        (time, lat, lon) float32 nan nan ... 0.14572144 0.14572144\n",
       "    v        (time, lat, lon) float32 nan nan ... -0.23032272 -0.24182257</pre>"
      ],
      "text/plain": [
       "<xarray.Dataset>\n",
       "Dimensions:  (lat: 565, lon: 564, time: 157)\n",
       "Coordinates:\n",
       "  * lon      (lon) float64 114.2 114.3 114.3 114.3 ... 132.9 132.9 133.0 133.0\n",
       "  * lat      (lat) float64 22.2 22.23 22.27 22.3 22.33 ... 40.9 40.93 40.97 41.0\n",
       "  * time     (time) datetime64[ns] 2020-04-06T12:00:00 ... 2020-04-13\n",
       "Data variables:\n",
       "    u        (time, lat, lon) float32 nan nan ... 0.14572144 0.14572144\n",
       "    v        (time, lat, lon) float32 nan nan ... -0.23032272 -0.24182257"
      ]
     },
     "execution_count": 8,
     "metadata": {},
     "output_type": "execute_result"
    }
   ],
   "source": [
    "ds_xr.load()"
   ]
  },
  {
   "cell_type": "code",
   "execution_count": 9,
   "metadata": {},
   "outputs": [
    {
     "data": {
      "text/plain": [
       "{}"
      ]
     },
     "execution_count": 9,
     "metadata": {},
     "output_type": "execute_result"
    }
   ],
   "source": [
    "ds_xr.attrs"
   ]
  },
  {
   "cell_type": "code",
   "execution_count": 10,
   "metadata": {},
   "outputs": [
    {
     "data": {
      "text/plain": [
       "Frozen(SortedKeysDict({'lon': 564, 'lat': 565, 'time': 157}))"
      ]
     },
     "execution_count": 10,
     "metadata": {},
     "output_type": "execute_result"
    }
   ],
   "source": [
    "ds_xr.dims"
   ]
  },
  {
   "cell_type": "code",
   "execution_count": 7,
   "metadata": {},
   "outputs": [
    {
     "data": {
      "text/plain": [
       "<bound method Mapping.values of <xarray.Dataset>\n",
       "Dimensions:  (lat: 565, lon: 564, time: 157)\n",
       "Coordinates:\n",
       "  * lon      (lon) float64 114.2 114.3 114.3 114.3 ... 132.9 132.9 133.0 133.0\n",
       "  * lat      (lat) float64 22.2 22.23 22.27 22.3 22.33 ... 40.9 40.93 40.97 41.0\n",
       "  * time     (time) datetime64[ns] 2020-04-06T12:00:00 ... 2020-04-13\n",
       "Data variables:\n",
       "    u        (time, lat, lon) float32 nan nan ... 0.14572144 0.14572144\n",
       "    v        (time, lat, lon) float32 nan nan ... -0.23032272 -0.24182257>"
      ]
     },
     "execution_count": 7,
     "metadata": {},
     "output_type": "execute_result"
    }
   ],
   "source": [
    "ds_xr.values"
   ]
  },
  {
   "cell_type": "markdown",
   "metadata": {},
   "source": [
    "## 使用 netcdf4 操作nc(完成修改操作)"
   ]
  },
  {
   "cell_type": "code",
   "execution_count": 11,
   "metadata": {},
   "outputs": [],
   "source": [
    "ds=nc.Dataset(file_path,'r+')"
   ]
  },
  {
   "cell_type": "code",
   "execution_count": 12,
   "metadata": {},
   "outputs": [
    {
     "data": {
      "text/plain": [
       "<class 'netCDF4._netCDF4.Dataset'>\n",
       "root group (NETCDF3_CLASSIC data model, file format NETCDF3):\n",
       "    dimensions(sizes): one(1), lon(564), lat(565), time(157), DateStrLen(19)\n",
       "    variables(dimensions): float64 lon(lon), float64 lat(lat), float64 time(time), float32 u(time,lat,lon), float32 v(time,lat,lon)\n",
       "    groups: "
      ]
     },
     "execution_count": 12,
     "metadata": {},
     "output_type": "execute_result"
    }
   ],
   "source": [
    "# 未经处理的 流场数据\n",
    "ds"
   ]
  },
  {
   "cell_type": "markdown",
   "metadata": {},
   "source": [
    "### 2-1 原始的流场数据"
   ]
  },
  {
   "cell_type": "code",
   "execution_count": 13,
   "metadata": {},
   "outputs": [
    {
     "data": {
      "text/plain": [
       "{'one': <class 'netCDF4._netCDF4.Dimension'>: name = 'one', size = 1,\n",
       " 'lon': <class 'netCDF4._netCDF4.Dimension'>: name = 'lon', size = 564,\n",
       " 'lat': <class 'netCDF4._netCDF4.Dimension'>: name = 'lat', size = 565,\n",
       " 'time': <class 'netCDF4._netCDF4.Dimension'> (unlimited): name = 'time', size = 157,\n",
       " 'DateStrLen': <class 'netCDF4._netCDF4.Dimension'>: name = 'DateStrLen', size = 19}"
      ]
     },
     "execution_count": 13,
     "metadata": {},
     "output_type": "execute_result"
    }
   ],
   "source": [
    "ds.dimensions"
   ]
  },
  {
   "cell_type": "markdown",
   "metadata": {},
   "source": [
    "尝试获取 values"
   ]
  },
  {
   "cell_type": "code",
   "execution_count": 14,
   "metadata": {},
   "outputs": [
    {
     "data": {
      "text/plain": [
       "{'lon': <class 'netCDF4._netCDF4.Variable'>\n",
       " float64 lon(lon)\n",
       "     long_name: longitude\n",
       "     units: degree_east\n",
       " unlimited dimensions: \n",
       " current shape = (564,)\n",
       " filling on, default _FillValue of 9.969209968386869e+36 used,\n",
       " 'lat': <class 'netCDF4._netCDF4.Variable'>\n",
       " float64 lat(lat)\n",
       "     long_name: latitude\n",
       "     units: degree_north\n",
       " unlimited dimensions: \n",
       " current shape = (565,)\n",
       " filling on, default _FillValue of 9.969209968386869e+36 used,\n",
       " 'time': <class 'netCDF4._netCDF4.Variable'>\n",
       " float64 time(time)\n",
       "     long_name: time since initialization\n",
       "     units: minutes since 2000-01-01 00:00:00\n",
       "     calendar: gregorian\n",
       "     field: time\n",
       " unlimited dimensions: time\n",
       " current shape = (157,)\n",
       " filling on, default _FillValue of 9.969209968386869e+36 used,\n",
       " 'u': <class 'netCDF4._netCDF4.Variable'>\n",
       " float32 u(time, lat, lon)\n",
       "     long_name: u velocity speed\n",
       "     units: meter second-1\n",
       "     time: time\n",
       "     coordinates: ocean_time lon lat\n",
       "     field: u-velocity, scalar, series\n",
       "     _FillValue: 1e+37\n",
       " unlimited dimensions: time\n",
       " current shape = (157, 565, 564)\n",
       " filling on,\n",
       " 'v': <class 'netCDF4._netCDF4.Variable'>\n",
       " float32 v(time, lat, lon)\n",
       "     long_name: Northward Water Velocity\n",
       "     units: meter second-1\n",
       "     time: time\n",
       "     coordinates: time lon lat\n",
       "     field: v-velocity, scalar, series\n",
       "     _FillValue: 1e+37\n",
       "     standard_name: y_sea_water_velocity\n",
       " unlimited dimensions: time\n",
       " current shape = (157, 565, 564)\n",
       " filling on}"
      ]
     },
     "execution_count": 14,
     "metadata": {},
     "output_type": "execute_result"
    }
   ],
   "source": [
    "ds.variables"
   ]
  },
  {
   "cell_type": "markdown",
   "metadata": {},
   "source": [
    "ds.variables -> u/v"
   ]
  },
  {
   "cell_type": "code",
   "execution_count": 15,
   "metadata": {},
   "outputs": [
    {
     "data": {
      "text/plain": [
       "<class 'netCDF4._netCDF4.Variable'>\n",
       "float32 v(time, lat, lon)\n",
       "    long_name: Northward Water Velocity\n",
       "    units: meter second-1\n",
       "    time: time\n",
       "    coordinates: time lon lat\n",
       "    field: v-velocity, scalar, series\n",
       "    _FillValue: 1e+37\n",
       "    standard_name: y_sea_water_velocity\n",
       "unlimited dimensions: time\n",
       "current shape = (157, 565, 564)\n",
       "filling on"
      ]
     },
     "execution_count": 15,
     "metadata": {},
     "output_type": "execute_result"
    }
   ],
   "source": [
    "ds.variables['v']"
   ]
  },
  {
   "cell_type": "code",
   "execution_count": 16,
   "metadata": {},
   "outputs": [
    {
     "data": {
      "text/plain": [
       "'Northward Water Velocity'"
      ]
     },
     "execution_count": 16,
     "metadata": {},
     "output_type": "execute_result"
    }
   ],
   "source": [
    "ds.variables['v'].long_name"
   ]
  },
  {
   "cell_type": "markdown",
   "metadata": {},
   "source": [
    "现在遇见的问题是 netcdf是只读的  \n",
    "[支持写入操作,参考](https://github.com/Unidata/netcdf4-python/issues/109)"
   ]
  },
  {
   "cell_type": "code",
   "execution_count": 27,
   "metadata": {},
   "outputs": [],
   "source": [
    "ds.variables['v'].long_name='Northward Water Velocity'"
   ]
  },
  {
   "cell_type": "code",
   "execution_count": 28,
   "metadata": {},
   "outputs": [
    {
     "data": {
      "text/plain": [
       "'Northward Water Velocity'"
      ]
     },
     "execution_count": 28,
     "metadata": {},
     "output_type": "execute_result"
    }
   ],
   "source": [
    "ds.variables['v'].long_name"
   ]
  },
  {
   "cell_type": "markdown",
   "metadata": {},
   "source": [
    "查看一下 **standard_name**"
   ]
  },
  {
   "cell_type": "code",
   "execution_count": 30,
   "metadata": {},
   "outputs": [],
   "source": [
    "ds.variables['v'].standard_name='y_sea_water_velocity'"
   ]
  },
  {
   "cell_type": "code",
   "execution_count": 31,
   "metadata": {},
   "outputs": [
    {
     "data": {
      "text/plain": [
       "'y_sea_water_velocity'"
      ]
     },
     "execution_count": 31,
     "metadata": {},
     "output_type": "execute_result"
    }
   ],
   "source": [
    "ds.variables['v'].standard_name"
   ]
  },
  {
   "cell_type": "code",
   "execution_count": 32,
   "metadata": {},
   "outputs": [
    {
     "data": {
      "text/plain": [
       "{'lon': <class 'netCDF4._netCDF4.Variable'>\n",
       " float64 lon(lon)\n",
       "     long_name: longitude\n",
       "     units: degree_east\n",
       " unlimited dimensions: \n",
       " current shape = (564,)\n",
       " filling on, default _FillValue of 9.969209968386869e+36 used,\n",
       " 'lat': <class 'netCDF4._netCDF4.Variable'>\n",
       " float64 lat(lat)\n",
       "     long_name: latitude\n",
       "     units: degree_north\n",
       " unlimited dimensions: \n",
       " current shape = (565,)\n",
       " filling on, default _FillValue of 9.969209968386869e+36 used,\n",
       " 'time': <class 'netCDF4._netCDF4.Variable'>\n",
       " float64 time(time)\n",
       "     long_name: time since initialization\n",
       "     units: minutes since 2000-01-01 00:00:00\n",
       "     calendar: gregorian\n",
       "     field: time\n",
       " unlimited dimensions: time\n",
       " current shape = (157,)\n",
       " filling on, default _FillValue of 9.969209968386869e+36 used,\n",
       " 'u': <class 'netCDF4._netCDF4.Variable'>\n",
       " float32 u(time, lat, lon)\n",
       "     long_name: u velocity speed\n",
       "     units: meter second-1\n",
       "     time: time\n",
       "     coordinates: ocean_time lon lat\n",
       "     field: u-velocity, scalar, series\n",
       "     _FillValue: 1e+37\n",
       " unlimited dimensions: time\n",
       " current shape = (157, 565, 564)\n",
       " filling on,\n",
       " 'v': <class 'netCDF4._netCDF4.Variable'>\n",
       " float32 v(time, lat, lon)\n",
       "     long_name: Northward Water Velocity\n",
       "     units: meter second-1\n",
       "     time: time\n",
       "     coordinates: time lon lat\n",
       "     field: v-velocity, scalar, series\n",
       "     _FillValue: 1e+37\n",
       "     standard_name: y_sea_water_velocity\n",
       " unlimited dimensions: time\n",
       " current shape = (157, 565, 564)\n",
       " filling on}"
      ]
     },
     "execution_count": 32,
     "metadata": {},
     "output_type": "execute_result"
    }
   ],
   "source": [
    "ds.variables"
   ]
  },
  {
   "cell_type": "markdown",
   "metadata": {},
   "source": [
    "### 2-2 处理后的流场数据"
   ]
  },
  {
   "cell_type": "code",
   "execution_count": 12,
   "metadata": {},
   "outputs": [],
   "source": [
    "# 经过处理后的流场数据\n",
    "file_name_ecs_cur=r'D:\\03data\\search\\waterwind\\ecs_curr_20160722_opdr.nc'"
   ]
  },
  {
   "cell_type": "code",
   "execution_count": 13,
   "metadata": {},
   "outputs": [
    {
     "data": {
      "text/plain": [
       "<class 'netCDF4._netCDF4.Dataset'>\n",
       "root group (NETCDF3_CLASSIC data model, file format NETCDF3):\n",
       "    dimensions(sizes): lon(564), lat(565), time(145), z(1)\n",
       "    variables(dimensions): float32 lon(lon), float32 lat(lat), float32 time(time), float32 u(time,z,lat,lon), float32 v(time,z,lat,lon)\n",
       "    groups: "
      ]
     },
     "execution_count": 13,
     "metadata": {},
     "output_type": "execute_result"
    }
   ],
   "source": [
    "ds_convert=nc.Dataset(file_name_ecs_cur)\n",
    "ds_convert"
   ]
  },
  {
   "cell_type": "code",
   "execution_count": 15,
   "metadata": {},
   "outputs": [
    {
     "data": {
      "text/plain": [
       "{'lon': <class 'netCDF4._netCDF4.Dimension'>: name = 'lon', size = 564,\n",
       " 'lat': <class 'netCDF4._netCDF4.Dimension'>: name = 'lat', size = 565,\n",
       " 'time': <class 'netCDF4._netCDF4.Dimension'> (unlimited): name = 'time', size = 145,\n",
       " 'z': <class 'netCDF4._netCDF4.Dimension'>: name = 'z', size = 1}"
      ]
     },
     "execution_count": 15,
     "metadata": {},
     "output_type": "execute_result"
    }
   ],
   "source": [
    "ds_convert.dimensions['']"
   ]
  },
  {
   "cell_type": "code",
   "execution_count": null,
   "metadata": {},
   "outputs": [],
   "source": []
  }
 ],
 "metadata": {
  "kernelspec": {
   "display_name": "Python 3",
   "language": "python",
   "name": "python3"
  },
  "language_info": {
   "codemirror_mode": {
    "name": "ipython",
    "version": 3
   },
   "file_extension": ".py",
   "mimetype": "text/x-python",
   "name": "python",
   "nbconvert_exporter": "python",
   "pygments_lexer": "ipython3",
   "version": "3.7.3"
  }
 },
 "nbformat": 4,
 "nbformat_minor": 2
}
